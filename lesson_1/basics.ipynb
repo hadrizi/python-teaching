{
 "cells": [
  {
   "cell_type": "markdown",
   "metadata": {},
   "source": [
    "# Python Functions and Classes"
   ]
  },
  {
   "attachments": {},
   "cell_type": "markdown",
   "metadata": {},
   "source": [
    "#### Arithmetic operations"
   ]
  },
  {
   "attachments": {},
   "cell_type": "markdown",
   "metadata": {},
   "source": [
    "Addition, Subtraction, Multiplication"
   ]
  },
  {
   "cell_type": "code",
   "execution_count": 1,
   "metadata": {},
   "outputs": [],
   "source": [
    "x = (4 + 8) * (6.5 - 3)\n"
   ]
  },
  {
   "cell_type": "code",
   "execution_count": 2,
   "metadata": {},
   "outputs": [
    {
     "name": "stdout",
     "output_type": "stream",
     "text": [
      "42.0\n"
     ]
    }
   ],
   "source": [
    "print(x)\n"
   ]
  },
  {
   "attachments": {},
   "cell_type": "markdown",
   "metadata": {},
   "source": [
    "True division and Floor division"
   ]
  },
  {
   "cell_type": "code",
   "execution_count": 3,
   "metadata": {},
   "outputs": [],
   "source": [
    "# True division\n",
    "true_div_var = 11 / 2\n",
    "# Floor division\n",
    "floor_div_var = 11 // 2\n"
   ]
  },
  {
   "cell_type": "code",
   "execution_count": 4,
   "metadata": {},
   "outputs": [
    {
     "name": "stdout",
     "output_type": "stream",
     "text": [
      "5.5\n",
      "5\n"
     ]
    }
   ],
   "source": [
    "print(true_div_var)\n",
    "print(floor_div_var)\n"
   ]
  },
  {
   "attachments": {},
   "cell_type": "markdown",
   "metadata": {},
   "source": [
    "Сonvenient way to modify a value to an existing variable:"
   ]
  },
  {
   "cell_type": "code",
   "execution_count": 5,
   "metadata": {},
   "outputs": [
    {
     "name": "stdout",
     "output_type": "stream",
     "text": [
      "10\n",
      "12\n",
      "36\n",
      "12\n",
      "10\n"
     ]
    }
   ],
   "source": [
    "x = 10\n",
    "print(x)\n",
    "x += 2  # equivalent to a = a + 2\n",
    "print(x)\n",
    "x *= 3  # equivalent to a = a * 3\n",
    "print(x)\n",
    "x //= 3  # equivalent to a = a // 3\n",
    "print(x)\n",
    "x -= 2  # equivalent to a = a - 2\n",
    "print(x)\n"
   ]
  },
  {
   "attachments": {},
   "cell_type": "markdown",
   "metadata": {},
   "source": [
    "#### Bool"
   ]
  },
  {
   "cell_type": "code",
   "execution_count": 6,
   "metadata": {},
   "outputs": [
    {
     "name": "stdout",
     "output_type": "stream",
     "text": [
      "True\n",
      "<class 'bool'>\n",
      "True False\n",
      "True False\n",
      "False\n"
     ]
    }
   ],
   "source": [
    "# Boolean Type\n",
    "result = 4 < 5\n",
    "print(result)\n",
    "print(type(result))\n",
    "\n",
    "a = bool(2022)\n",
    "b = bool(0)\n",
    "print(a, b)\n",
    "\n",
    "a = bool(\"abc\")\n",
    "b = bool(\"\")\n",
    "print(a, b)\n",
    "\n",
    "none_bool = bool(None)\n",
    "print(none_bool)\n"
   ]
  },
  {
   "attachments": {},
   "cell_type": "markdown",
   "metadata": {},
   "source": [
    "#### Boolean Operations"
   ]
  },
  {
   "attachments": {},
   "cell_type": "markdown",
   "metadata": {},
   "source": [
    "Check if a number is odd"
   ]
  },
  {
   "cell_type": "code",
   "execution_count": 7,
   "metadata": {},
   "outputs": [],
   "source": [
    "first_is_odd_example = (7 % 2 != 0)\n",
    "\n",
    "second_is_odd_example = (8 % 2 != 0)\n"
   ]
  },
  {
   "cell_type": "code",
   "execution_count": 8,
   "metadata": {},
   "outputs": [
    {
     "name": "stdout",
     "output_type": "stream",
     "text": [
      "True\n",
      "False\n"
     ]
    }
   ],
   "source": [
    "print(first_is_odd_example)\n",
    "print(second_is_odd_example)"
   ]
  },
  {
   "attachments": {},
   "cell_type": "markdown",
   "metadata": {},
   "source": [
    "Other operations examples"
   ]
  },
  {
   "cell_type": "code",
   "execution_count": 9,
   "metadata": {},
   "outputs": [],
   "source": [
    "a = 12\n",
    "x = 4\n"
   ]
  },
  {
   "cell_type": "code",
   "execution_count": 10,
   "metadata": {},
   "outputs": [
    {
     "name": "stdout",
     "output_type": "stream",
     "text": [
      "False\n",
      "True\n",
      "True\n",
      "False\n"
     ]
    }
   ],
   "source": [
    "print(0 < a < 10)\n",
    "print((x <= 6) and (x >= 2))\n",
    "print((x > 10) or (x % 2 == 0))\n",
    "print(not True)\n"
   ]
  },
  {
   "attachments": {},
   "cell_type": "markdown",
   "metadata": {},
   "source": [
    "#### Break"
   ]
  },
  {
   "cell_type": "code",
   "execution_count": 11,
   "metadata": {},
   "outputs": [
    {
     "name": "stdout",
     "output_type": "stream",
     "text": [
      "[1, 1, 2, 3, 5, 8, 13, 21, 34, 55, 89, 144, 233, 377, 610, 987, 1597, 2584, 4181, 6765]\n"
     ]
    }
   ],
   "source": [
    "# break\n",
    "a, b = 0, 1\n",
    "amax = 10000\n",
    "L = []\n",
    "\n",
    "while True:\n",
    "    (a, b) = (b, a + b)\n",
    "    if a > amax:\n",
    "        break\n",
    "    L.append(a)\n",
    "\n",
    "print(L)\n"
   ]
  },
  {
   "attachments": {},
   "cell_type": "markdown",
   "metadata": {},
   "source": [
    "#### Complex"
   ]
  },
  {
   "cell_type": "code",
   "execution_count": 12,
   "metadata": {},
   "outputs": [
    {
     "name": "stdout",
     "output_type": "stream",
     "text": [
      "(1+2j)\n",
      "(1+2j)\n"
     ]
    }
   ],
   "source": [
    "# Complex Numbers\n",
    "a = complex(1, 2)\n",
    "print(a)\n",
    "\n",
    "a = 1 + 2j\n",
    "print(a)"
   ]
  },
  {
   "attachments": {},
   "cell_type": "markdown",
   "metadata": {},
   "source": [
    "#### Conditional Statements"
   ]
  },
  {
   "cell_type": "code",
   "execution_count": 13,
   "metadata": {},
   "outputs": [
    {
     "name": "stdout",
     "output_type": "stream",
     "text": [
      "-15 is negative\n"
     ]
    }
   ],
   "source": [
    "# Conditional Statements: if-elif-else\n",
    "x = -15\n",
    "\n",
    "if x == 0:\n",
    "    print(x, \"is zero\")\n",
    "elif x > 0:\n",
    "    print(x, \"is positive\")\n",
    "elif x < 0:\n",
    "    print(x, \"is negative\")\n",
    "else:\n",
    "    print(x, \"is unlike anything I've ever seen...\")"
   ]
  },
  {
   "attachments": {},
   "cell_type": "markdown",
   "metadata": {},
   "source": [
    "#### Continue"
   ]
  },
  {
   "cell_type": "code",
   "execution_count": 14,
   "metadata": {},
   "outputs": [
    {
     "name": "stdout",
     "output_type": "stream",
     "text": [
      "1\n",
      "3\n",
      "5\n",
      "7\n",
      "9\n",
      "11\n",
      "13\n",
      "15\n",
      "17\n",
      "19\n"
     ]
    }
   ],
   "source": [
    "# continue\n",
    "for n in range(20):\n",
    "    # if the remainder of n / 2 is 0, skip the rest of the loop\n",
    "    if n % 2 == 0:\n",
    "        continue\n",
    "    print(n)"
   ]
  },
  {
   "attachments": {},
   "cell_type": "markdown",
   "metadata": {},
   "source": [
    "#### Dictionary"
   ]
  },
  {
   "cell_type": "code",
   "execution_count": 15,
   "metadata": {},
   "outputs": [
    {
     "name": "stdout",
     "output_type": "stream",
     "text": [
      "5000\n",
      "{'Arkassia': 3000, 'Maks': 5000, 'Marat': 100, 'Hadron': 200}\n"
     ]
    }
   ],
   "source": [
    "# Dictionaries\n",
    "numbers = {\"Arkassia\": 1000, \"Maks\": 5000, \"Marat\": 100}\n",
    "\n",
    "# Access a value via the key\n",
    "print(numbers[\"Maks\"])\n",
    "\n",
    "# Set a new key:value pair\n",
    "numbers[\"Hadron\"] = 200\n",
    "\n",
    "numbers[\"Arkassia\"] = 3000\n",
    "print(numbers)\n"
   ]
  },
  {
   "attachments": {},
   "cell_type": "markdown",
   "metadata": {},
   "source": [
    "#### Everything is an Object"
   ]
  },
  {
   "cell_type": "code",
   "execution_count": 16,
   "metadata": {},
   "outputs": [
    {
     "name": "stdout",
     "output_type": "stream",
     "text": [
      "<class 'int'>\n",
      "<class 'str'>\n",
      "<class 'float'>\n",
      "[1, 2, 3, 100]\n",
      "4.5 + 0.0 i\n",
      "False\n",
      "<class 'builtin_function_or_method'>\n"
     ]
    }
   ],
   "source": [
    "x = 4\n",
    "print(type(x))\n",
    "\n",
    "x = 'hello'\n",
    "print(type(x))\n",
    "\n",
    "x = 3.14159\n",
    "print(type(x))\n",
    "\n",
    "\n",
    "L = [1, 2, 3]\n",
    "L.append(100)\n",
    "print(L)\n",
    "\n",
    "x = 4.5\n",
    "print(x.real, \"+\", x.imag, 'i')\n",
    "print(x.is_integer())\n",
    "\n",
    "print(type(x.is_integer))\n"
   ]
  },
  {
   "attachments": {},
   "cell_type": "markdown",
   "metadata": {},
   "source": [
    "#### Float"
   ]
  },
  {
   "cell_type": "code",
   "execution_count": 17,
   "metadata": {},
   "outputs": [
    {
     "name": "stdout",
     "output_type": "stream",
     "text": [
      "True\n",
      "True\n",
      "1.0\n",
      "False\n",
      "0.1 = 0.10000000000000001\n",
      "0.2 = 0.20000000000000001\n",
      "0.3 = 0.29999999999999999\n"
     ]
    }
   ],
   "source": [
    "# Floating-Point Numbers\n",
    "x = 0.000005\n",
    "y = 5e-6\n",
    "print(x == y)\n",
    "\n",
    "x = 1400000.00\n",
    "y = 1.4e6\n",
    "print(x == y)\n",
    "\n",
    "print(float(1))\n",
    "\n",
    "print(0.1 + 0.2 == 0.3)\n",
    "\n",
    "print(\"0.1 = {0:.17f}\".format(0.1))\n",
    "print(\"0.2 = {0:.17f}\".format(0.2))\n",
    "print(\"0.3 = {0:.17f}\".format(0.3))"
   ]
  },
  {
   "attachments": {},
   "cell_type": "markdown",
   "metadata": {},
   "source": [
    "#### For Loops"
   ]
  },
  {
   "cell_type": "code",
   "execution_count": 18,
   "metadata": {},
   "outputs": [
    {
     "name": "stdout",
     "output_type": "stream",
     "text": [
      "4\n",
      "9\n",
      "25\n",
      "49\n",
      "0\n",
      "1\n",
      "2\n",
      "3\n",
      "4\n",
      "5\n",
      "6\n",
      "7\n",
      "8\n",
      "9\n",
      "10\n",
      "11\n",
      "12\n",
      "13\n",
      "14\n"
     ]
    }
   ],
   "source": [
    "# for loops\n",
    "for N in [2, 3, 5, 7]:\n",
    "    print(N ** 2)\n",
    "    \n",
    "for i in range(15):\n",
    "    print(i)"
   ]
  },
  {
   "attachments": {},
   "cell_type": "markdown",
   "metadata": {},
   "source": [
    "#### Identity membership operations"
   ]
  },
  {
   "cell_type": "code",
   "execution_count": 19,
   "metadata": {},
   "outputs": [
    {
     "name": "stdout",
     "output_type": "stream",
     "text": [
      "True\n",
      "False\n",
      "True\n",
      "True\n",
      "True\n",
      "False\n"
     ]
    }
   ],
   "source": [
    "a = [1, 2, 3]\n",
    "b = [1, 2, 3]\n",
    "\n",
    "print(a == b)\n",
    "print(a is b)\n",
    "print(a is not b)\n",
    "\n",
    "a = [1, 2, 3]\n",
    "b = a\n",
    "print(a is b)\n",
    "\n",
    "print(1 in [1, 2, 3])\n",
    "print(2 not in [1, 2, 3])"
   ]
  },
  {
   "attachments": {},
   "cell_type": "markdown",
   "metadata": {},
   "source": [
    "#### Import and Random"
   ]
  },
  {
   "cell_type": "code",
   "execution_count": 20,
   "metadata": {},
   "outputs": [
    {
     "name": "stdout",
     "output_type": "stream",
     "text": [
      "Your random number is 2\n"
     ]
    }
   ],
   "source": [
    "import random\n",
    "\n",
    "number = random.randint(1, 20)\n",
    "print(\"Your random number is \" + str(number))\n"
   ]
  },
  {
   "attachments": {},
   "cell_type": "markdown",
   "metadata": {},
   "source": [
    "#### Indexing and Slicing"
   ]
  },
  {
   "cell_type": "code",
   "execution_count": 21,
   "metadata": {},
   "outputs": [
    {
     "name": "stdout",
     "output_type": "stream",
     "text": [
      "5\n",
      "3\n",
      "11\n",
      "7\n",
      "[2, 3, 5]\n",
      "[2, 3, 5]\n",
      "[5, 7, 11]\n",
      "[2, 3]\n",
      "[2, 5]\n",
      "[11, 7, 5, 3, 2]\n",
      "[100, 3, 5, 7, 11]\n",
      "[100, 55, 56, 7, 11]\n"
     ]
    }
   ],
   "source": [
    "# List indexing and slicing\n",
    "L = [2, 3, 5, 7, 11]\n",
    "print(L[2])\n",
    "print(L[1])\n",
    "\n",
    "print(L[-1])\n",
    "print(L[-2])\n",
    "\n",
    "print(L[0:3])\n",
    "print(L[:3])\n",
    "\n",
    "print(L[-3:])\n",
    "print(L[:-3])\n",
    "\n",
    "print(L[0:len(L)-1:2])\n",
    "print(L[::-1])\n",
    "\n",
    "L[0] = 100\n",
    "print(L)\n",
    "L[1:3] = [55, 56]\n",
    "print(L)\n"
   ]
  },
  {
   "attachments": {},
   "cell_type": "markdown",
   "metadata": {},
   "source": [
    "#### Integers"
   ]
  },
  {
   "cell_type": "code",
   "execution_count": 22,
   "metadata": {},
   "outputs": [
    {
     "name": "stdout",
     "output_type": "stream",
     "text": [
      "1606938044258990275541962092341162602522202993782792835301376\n",
      "2.5\n",
      "2\n"
     ]
    }
   ],
   "source": [
    "# Integers\n",
    "x = 1\n",
    "type(x)\n",
    "\n",
    "print(2**200)\n",
    "print(5 / 2)\n",
    "print(5 // 2)\n"
   ]
  },
  {
   "attachments": {},
   "cell_type": "markdown",
   "metadata": {},
   "source": [
    "#### Lists"
   ]
  },
  {
   "cell_type": "code",
   "execution_count": 23,
   "metadata": {},
   "outputs": [
    {
     "name": "stdout",
     "output_type": "stream",
     "text": [
      "4\n",
      "[1, 2, 3, 4, 11]\n",
      "[1, 2, 3, 4, 11, 13, 17, 19]\n",
      "[1, 2, 3, 4, 5, 6]\n",
      "[6, 5, 4, 3, 2, 1]\n",
      "[1, 'two', 3.14, [0, 3, 5]]\n"
     ]
    }
   ],
   "source": [
    "# Lists\n",
    "L = [1, 2, 3, 4]\n",
    "print(len(L))\n",
    "\n",
    "L.append(11)\n",
    "print(L)\n",
    "\n",
    "L = L + [13, 17, 19]\n",
    "print(L)\n",
    "\n",
    "L = [2, 5, 1, 6, 3, 4]\n",
    "L.sort()\n",
    "print(L)\n",
    "\n",
    "L = [2, 5, 1, 6, 3, 4]\n",
    "L.sort(reverse=True)\n",
    "print(L)\n",
    "\n",
    "L = [1, \"two\", 3.14, [0, 3, 5]]\n",
    "print(L)\n"
   ]
  },
  {
   "attachments": {},
   "cell_type": "markdown",
   "metadata": {},
   "source": [
    "#### None"
   ]
  },
  {
   "cell_type": "code",
   "execution_count": 24,
   "metadata": {},
   "outputs": [
    {
     "name": "stdout",
     "output_type": "stream",
     "text": [
      "<class 'NoneType'>\n",
      "abc\n",
      "None\n"
     ]
    }
   ],
   "source": [
    "# None Type\n",
    "print(type(None))\n",
    "\n",
    "return_value = print(\"abc\")\n",
    "print(return_value)\n"
   ]
  },
  {
   "attachments": {},
   "cell_type": "markdown",
   "metadata": {},
   "source": [
    "#### Program Example"
   ]
  },
  {
   "cell_type": "code",
   "execution_count": 25,
   "metadata": {},
   "outputs": [
    {
     "name": "stdout",
     "output_type": "stream",
     "text": [
      "lower: [0, 1, 2, 3, 4]\n",
      "upper: [5, 6, 7, 8, 9]\n"
     ]
    }
   ],
   "source": [
    "# set the midpoint\n",
    "midpoint = 5\n",
    "\n",
    "# make two empty lists\n",
    "lower = []\n",
    "upper = []\n",
    "\n",
    "# split the numbers into lower and upper\n",
    "for i in range(10):\n",
    "    if i < midpoint:\n",
    "        lower.append(i)\n",
    "    else:\n",
    "        upper.append(i)\n",
    "\n",
    "print(\"lower:\", lower)\n",
    "print(\"upper:\", upper)\n"
   ]
  },
  {
   "attachments": {},
   "cell_type": "markdown",
   "metadata": {},
   "source": [
    "#### Sets"
   ]
  },
  {
   "cell_type": "code",
   "execution_count": 26,
   "metadata": {},
   "outputs": [
    {
     "name": "stdout",
     "output_type": "stream",
     "text": [
      "{1, 2, 3, 5, 7, 9}\n",
      "{3, 5, 7}\n",
      "{2}\n",
      "{1, 2, 9}\n",
      "{1, 2, 3}\n"
     ]
    }
   ],
   "source": [
    "# Sets\n",
    "primes = {2, 3, 5, 7}\n",
    "odds = {1, 3, 5, 7, 9}\n",
    "\n",
    "# union: items appearing in either\n",
    "union = primes | odds  # with an operator\n",
    "union = primes.union(odds)  # equivalently with a method\n",
    "print(union)\n",
    "\n",
    "# intersection: items appearing in both\n",
    "intersection = primes & odds  # with an operator\n",
    "intersection = primes.intersection(odds)  # equivalently with a method\n",
    "print(intersection)\n",
    "\n",
    "# difference: items in primes but not in odds\n",
    "difference = primes - odds  # with an operator\n",
    "difference = primes.difference(odds)  # equivalently with a method\n",
    "print(difference)\n",
    "\n",
    "# symmetric difference: items appearing in only one set\n",
    "symmetric_difference = primes ^ odds  # with an operator\n",
    "symmetric_difference = primes.symmetric_difference(odds)  # equivalently with a method\n",
    "print(symmetric_difference)\n",
    "\n",
    "L = [1, 1, 1, 2, 3, 2]\n",
    "numbers = set(L)\n",
    "print(numbers)\n"
   ]
  },
  {
   "attachments": {},
   "cell_type": "markdown",
   "metadata": {},
   "source": [
    "#### String"
   ]
  },
  {
   "cell_type": "code",
   "execution_count": 27,
   "metadata": {},
   "outputs": [
    {
     "name": "stdout",
     "output_type": "stream",
     "text": [
      "4\n",
      "SPAM\n",
      "Spam\n",
      "what do you like?spam\n",
      "spamspamspamspamspam\n",
      "w\n"
     ]
    }
   ],
   "source": [
    "# String Type\n",
    "message = \"what do you like?\"\n",
    "response = 'spam'\n",
    "print(len(response))\n",
    "\n",
    "print(response.upper())\n",
    "print(response.capitalize())\n",
    "\n",
    "a = message + response\n",
    "print(a)\n",
    "\n",
    "print(5 * response)\n",
    "\n",
    "print(message[0])\n"
   ]
  },
  {
   "attachments": {},
   "cell_type": "markdown",
   "metadata": {},
   "source": [
    "#### Tuples"
   ]
  },
  {
   "cell_type": "code",
   "execution_count": 28,
   "metadata": {},
   "outputs": [
    {
     "name": "stdout",
     "output_type": "stream",
     "text": [
      "(1, 2, 3)\n",
      "(1, 2, 3)\n",
      "3\n",
      "1\n"
     ]
    }
   ],
   "source": [
    "# Tuples\n",
    "a = (1, 2, 3)\n",
    "b = 1, 2, 3\n",
    "print(a)\n",
    "print(b)\n",
    "\n",
    "print(len(a))\n",
    "print(a[0])\n",
    "\n",
    "# a[1] = 4"
   ]
  },
  {
   "attachments": {},
   "cell_type": "markdown",
   "metadata": {},
   "source": [
    "#### User Input"
   ]
  },
  {
   "cell_type": "code",
   "execution_count": 29,
   "metadata": {},
   "outputs": [
    {
     "name": "stdout",
     "output_type": "stream",
     "text": [
      "Your input \n"
     ]
    }
   ],
   "source": [
    "user_text = input()\n",
    "print(\"Your input\", user_text)\n"
   ]
  },
  {
   "attachments": {},
   "cell_type": "markdown",
   "metadata": {},
   "source": [
    "#### Variables"
   ]
  },
  {
   "cell_type": "code",
   "execution_count": 30,
   "metadata": {},
   "outputs": [
    {
     "name": "stdout",
     "output_type": "stream",
     "text": [
      "4\n",
      "hello\n",
      "[1, 2, 3]\n",
      "[1, 2, 3, 4]\n",
      "x = 15\n",
      "y = 10\n"
     ]
    }
   ],
   "source": [
    "# assign 4 to the variable x\n",
    "x = 4\n",
    "print(x)\n",
    "\n",
    "# now x is a string\n",
    "x = 'hello' \n",
    "print(x)\n",
    "\n",
    "# now x is a list\n",
    "x = [1, 2, 3]\n",
    "\n",
    "y = x\n",
    "print(y)\n",
    "\n",
    "x.append(4) # append 4 to the list pointed to by x\n",
    "print(y) # y's list is modified as well!\n",
    "\n",
    "# x = 'something else'\n",
    "# print(y)  # y is unchanged\n",
    "\n",
    "x = 10\n",
    "y = x\n",
    "x = x + 5  # add 5 to x's value, and assign it to x\n",
    "print(\"x =\", x)\n",
    "print(\"y =\", y)\n",
    "\n"
   ]
  },
  {
   "attachments": {},
   "cell_type": "markdown",
   "metadata": {},
   "source": [
    "#### While Loops"
   ]
  },
  {
   "cell_type": "code",
   "execution_count": 31,
   "metadata": {},
   "outputs": [
    {
     "name": "stdout",
     "output_type": "stream",
     "text": [
      "0\n",
      "1\n",
      "2\n",
      "3\n",
      "4\n",
      "5\n",
      "6\n",
      "7\n",
      "8\n",
      "9\n"
     ]
    }
   ],
   "source": [
    "# while loops\n",
    "i = 0\n",
    "\n",
    "while i < 10:\n",
    "    print(i)\n",
    "    i += 1\n"
   ]
  }
 ],
 "metadata": {
  "kernelspec": {
   "display_name": "Python 3",
   "language": "python",
   "name": "python3"
  },
  "language_info": {
   "codemirror_mode": {
    "name": "ipython",
    "version": 3
   },
   "file_extension": ".py",
   "mimetype": "text/x-python",
   "name": "python",
   "nbconvert_exporter": "python",
   "pygments_lexer": "ipython3",
   "version": "3.11.2"
  },
  "orig_nbformat": 4
 },
 "nbformat": 4,
 "nbformat_minor": 2
}
