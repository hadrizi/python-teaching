{
 "cells": [
  {
   "attachments": {},
   "cell_type": "markdown",
   "metadata": {},
   "source": [
    "# Python Functions and Classes\n",
    "\n",
    "## Why should I use them\n",
    "- Don't Repeat Yourself ([DRY](https://en.wikipedia.org/wiki/Don%27t_repeat_yourself))\n",
    "- Abstraction\n",
    "- Simplification\n",
    "- Organizing Code\n",
    "\n",
    "## Programming Paradigms \n",
    "- [Structured programming](https://en.wikipedia.org/wiki/Structured_programming)\n",
    "- [Object-oriented programming (OOP)](https://en.wikipedia.org/wiki/Object-oriented_programming)\n",
    "- [Functional programming](https://en.wikipedia.org/wiki/Functional_programming)"
   ]
  },
  {
   "attachments": {},
   "cell_type": "markdown",
   "metadata": {},
   "source": [
    "## Functions\n",
    "- **Wikipedia says** that function is a sequence of program instructions that performs a specific task, packaged as a unit.\n",
    "- **Python documentation** says that function *object* is a wrapper around the executable code for the function.\n",
    "\n",
    "### Basic functions syntax\n",
    "- `def` stands for define\n",
    "- aligned with tabs\n",
    "- first statement can be a string, called docstring\n",
    "- all variables live inside function and called “local”\n",
    "- always returns (thus no procedures in python)"
   ]
  },
  {
   "cell_type": "code",
   "execution_count": 3,
   "metadata": {},
   "outputs": [],
   "source": [
    "def fib(n: int):\n",
    "    \"\"\"Print Fibonacci series up to n.\"\"\"\n",
    "    a, b = 0, 1\n",
    "    while a < n:\n",
    "        print(a, end=' ')\n",
    "        a, b = b, a+b\n",
    "    print()"
   ]
  },
  {
   "cell_type": "code",
   "execution_count": 4,
   "metadata": {},
   "outputs": [
    {
     "name": "stdout",
     "output_type": "stream",
     "text": [
      "0 1 1 \n",
      "0 1 1 2 3 \n",
      "0 1 1 2 3 5 8 13 \n"
     ]
    }
   ],
   "source": [
    "fib(2)\n",
    "fib(5)\n",
    "fib(15)"
   ]
  },
  {
   "attachments": {},
   "cell_type": "markdown",
   "metadata": {},
   "source": [
    "### Function Reference\n",
    "Functions in Python can be passed by reference(without using `(...)`)"
   ]
  },
  {
   "cell_type": "code",
   "execution_count": 8,
   "metadata": {},
   "outputs": [
    {
     "data": {
      "text/plain": [
       "[2, 4, 6, 8]"
      ]
     },
     "execution_count": 8,
     "metadata": {},
     "output_type": "execute_result"
    }
   ],
   "source": [
    "# reference https://www.geeksforgeeks.org/python-map-function/\n",
    "\n",
    "def addition(n):\n",
    "    return n + n\n",
    " \n",
    "numbers = (1, 2, 3, 4)\n",
    "result = map(addition, numbers)\n",
    "\n",
    "print(list(result))"
   ]
  },
  {
   "attachments": {},
   "cell_type": "markdown",
   "metadata": {},
   "source": [
    "### Lambda Functions\n",
    "Also called Anonumous functions are functions that defined with keyword `lambda`\n",
    "- one-lined\n",
    "- defined \"on-run\"\n",
    "- always return its expression"
   ]
  },
  {
   "cell_type": "code",
   "execution_count": 10,
   "metadata": {},
   "outputs": [
    {
     "name": "stdout",
     "output_type": "stream",
     "text": [
      "[2, 4, 6, 8]\n"
     ]
    }
   ],
   "source": [
    "numbers = (1, 2, 3, 4)\n",
    "result = map(lambda x: x+x, numbers)\n",
    "\n",
    "print(list(result))"
   ]
  },
  {
   "attachments": {},
   "cell_type": "markdown",
   "metadata": {},
   "source": [
    "### Decorators\n",
    "Functions that take *other* function as argument and return function. Called using `@`. \\\n",
    "Documentation: https://docs.python.org/3/glossary.html#term-decorator"
   ]
  },
  {
   "cell_type": "code",
   "execution_count": 14,
   "metadata": {},
   "outputs": [],
   "source": [
    "def greet(func):\n",
    "    def wrapper():\n",
    "        greeting = func(\"Hi, I am created by a function passed as an argument.\")\n",
    "        print (greeting)\n",
    "\n",
    "    return wrapper\n",
    "\n",
    "@greet\n",
    "def shout(text):\n",
    "    return text.upper()\n",
    "\n",
    "@greet\n",
    "def whisper(text):\n",
    "    return text.lower()"
   ]
  },
  {
   "cell_type": "code",
   "execution_count": 15,
   "metadata": {},
   "outputs": [
    {
     "name": "stdout",
     "output_type": "stream",
     "text": [
      "HI, I AM CREATED BY A FUNCTION PASSED AS AN ARGUMENT.\n",
      "hi, i am created by a function passed as an argument.\n"
     ]
    }
   ],
   "source": [
    "shout()\n",
    "whisper()"
   ]
  }
 ],
 "metadata": {
  "kernelspec": {
   "display_name": "Python 3",
   "language": "python",
   "name": "python3"
  },
  "language_info": {
   "codemirror_mode": {
    "name": "ipython",
    "version": 3
   },
   "file_extension": ".py",
   "mimetype": "text/x-python",
   "name": "python",
   "nbconvert_exporter": "python",
   "pygments_lexer": "ipython3",
   "version": "3.10.4"
  },
  "orig_nbformat": 4
 },
 "nbformat": 4,
 "nbformat_minor": 2
}
